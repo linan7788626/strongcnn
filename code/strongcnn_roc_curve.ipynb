{
 "cells": [
  {
   "cell_type": "code",
   "execution_count": 1,
   "metadata": {
    "collapsed": true
   },
   "outputs": [],
   "source": [
    "import pandas as pd\n",
    "import numpy as np\n",
    "import matplotlib.pyplot as plt\n",
    "from sklearn.metrics import roc_curve\n",
    "\n",
    "project_dir = '/Users/cpd/Projects/strongcnn/'\n",
    "datapath = '/Users/cpd/Desktop/batches/'\n",
    "bin_dir = project_dir + 'binarys/'"
   ]
  },
  {
   "cell_type": "code",
   "execution_count": 2,
   "metadata": {
    "collapsed": false
   },
   "outputs": [
    {
     "name": "stdout",
     "output_type": "stream",
     "text": [
      "data loaded\n"
     ]
    }
   ],
   "source": [
    "data = pd.read_csv(datapath + 'database.csv',\n",
    "                       index_col=522)\n",
    "\n",
    "print('data loaded')\n",
    "# load up catalog for cutouts\n",
    "cat = pd.read_csv(project_dir + 'catalog/cluster_catalog.csv')\n",
    "\n",
    "data = data[data['category'] == 'training']\n",
    "cat = cat[cat['category'] == 'training']\n",
    "\n",
    "feature_cols = ['nn{0}'.format(i) for i in xrange(500)]\n",
    "\n",
    "cuts = np.load(bin_dir + 'cuts.npy').item()\n",
    "scores = np.load(bin_dir + 'scores.npy').item()\n",
    "\n",
    "cut_train, cut_test = cuts['all']\n",
    "cut_train_1, cut_test_1 = cuts[1]\n",
    "cut_train_2, cut_test_2 = cuts[2]\n",
    "\n",
    "train = {'all': (data.loc[cut_train][feature_cols].values,\n",
    "                 data.loc[cut_train]['alpha'] == 1),\n",
    "         1: (data[data['stage'] == 1].loc[cut_train_1][feature_cols].values,\n",
    "             data[data['stage'] == 1].loc[cut_train_1]['alpha'] == 1),\n",
    "         2: (data[data['stage'] == 2].loc[cut_train_2][feature_cols].values,\n",
    "             data[data['stage'] == 2].loc[cut_train_2]['alpha'] == 1),\n",
    "        }\n",
    "test = {'all': (data.loc[cut_test][feature_cols].values,\n",
    "                data.loc[cut_test]['alpha'] == 1),\n",
    "         1: (data[data['stage'] == 1].loc[cut_test_1][feature_cols].values,\n",
    "             data[data['stage'] == 1].loc[cut_test_1]['alpha'] == 1),\n",
    "         2: (data[data['stage'] == 2].loc[cut_test_2][feature_cols].values,\n",
    "             data[data['stage'] == 2].loc[cut_test_2]['alpha'] == 1),\n",
    "        }\n"
   ]
  },
  {
   "cell_type": "code",
   "execution_count": 15,
   "metadata": {
    "collapsed": true
   },
   "outputs": [],
   "source": [
    "# now compare against the mean_probability\n",
    "# this isn't totally correct because the classifications are done by subject,\n",
    "# and here subjects are now represented multiple numbers of times unevenly\n",
    "y_test_sw = cat['kind'] == 'sim'\n",
    "y_score_sw = cat['mean_probability']\n",
    "\n",
    "cond_sw1 = cat['stage'] == 1\n",
    "cond_sw2 = cat['stage'] == 2\n",
    "\n",
    "y_test_sw1 = y_test_sw[cond_sw1]\n",
    "y_score_sw1 = y_score_sw[cond_sw1]\n",
    "y_test_sw2 = y_test_sw[cond_sw2]\n",
    "y_score_sw2 = y_score_sw[cond_sw2]\n",
    "\n",
    "# this is somewhat unfair because sw comes from the image,\n",
    "# not the cutout\n",
    "fpr_sw1, tpr_sw1, _ = roc_curve(y_test_sw1, y_score_sw1)\n",
    "fpr_sw2, tpr_sw2, _ = roc_curve(y_test_sw2, y_score_sw2)\n",
    "fpr_swall, tpr_swall, _ = roc_curve(y_test_sw, y_score_sw)"
   ]
  },
  {
   "cell_type": "code",
   "execution_count": 5,
   "metadata": {
    "collapsed": false
   },
   "outputs": [],
   "source": [
    "fpr = {}\n",
    "tpr = {}\n",
    "thresh = {}\n",
    "classifiers = ['RandomForest', 'Softmax', 'SVM']\n",
    "for classifier in classifiers:\n",
    "    for stage in train:\n",
    "        key_train = (classifier, stage, 'train')\n",
    "        key_test = (classifier, stage, 'test')\n",
    "        fpr[key_train], tpr[key_train], thresh[key_train] = roc_curve(train[stage][1], scores[key_train])\n",
    "        fpr[key_test], tpr[key_test], thresh[key_test] = roc_curve(test[stage][1], scores[key_test])\n"
   ]
  },
  {
   "cell_type": "code",
   "execution_count": 20,
   "metadata": {
    "collapsed": false
   },
   "outputs": [],
   "source": [
    "classifier_colors = {'RandomForest': 'r', \n",
    "                     'Softmax': 'g',\n",
    "                     'SVM': 'm'}\n",
    "testtrain_style = {'test': '--',\n",
    "                   'train': ':'}\n",
    "\n",
    "for stage in [1, 2]:\n",
    "    plt.figure()\n",
    "    plt.xlabel('False Positive Rate')\n",
    "    plt.ylabel('True Positive Rate')\n",
    "    if (stage == 1) or (stage == 'all'):\n",
    "        plt.plot(fpr_sw1, tpr_sw1, linestyle='-', color='Blue', linewidth=3, label='SpaceWarps Stage 1')\n",
    "    if (stage == 2) or (stage == 'all'):\n",
    "        plt.plot(fpr_sw2, tpr_sw2, linestyle='-', color='DarkOrange', linewidth=3, label='SpaceWarps Stage 2')\n",
    "    if stage == 'all':\n",
    "        plt.plot(fpr_swall, tpr_swall, linestyle='-', color='Crimson', linewidth=3, label='SpaceWarps All')\n",
    "    for testtrain in ['test', 'train']:\n",
    "        for classifier in classifiers:\n",
    "            key = (classifier, stage, testtrain)\n",
    "            label = '{0} Stage {1} {2}'.format(*key)\n",
    "            plt.plot(fpr[key], tpr[key], linestyle=testtrain_style[testtrain], color=classifier_colors[classifier],\n",
    "                     linewidth=3, label=label)\n",
    "    plt.legend(loc='lower right')\n",
    "    plt.xlim(-0.005, 0.5)\n",
    "    plt.ylim(0.5, 1.0)\n",
    "    plt.savefig(project_dir + 'doc/roc_curve_stage_{0}.pdf'.format(stage))"
   ]
  },
  {
   "cell_type": "code",
   "execution_count": null,
   "metadata": {
    "collapsed": true
   },
   "outputs": [],
   "source": []
  }
 ],
 "metadata": {
  "kernelspec": {
   "display_name": "Python 2",
   "language": "python",
   "name": "python2"
  },
  "language_info": {
   "codemirror_mode": {
    "name": "ipython",
    "version": 2
   },
   "file_extension": ".py",
   "mimetype": "text/x-python",
   "name": "python",
   "nbconvert_exporter": "python",
   "pygments_lexer": "ipython2",
   "version": "2.7.3"
  }
 },
 "nbformat": 4,
 "nbformat_minor": 0
}
