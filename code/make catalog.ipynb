{
 "cells": [
  {
   "cell_type": "markdown",
   "metadata": {},
   "source": [
    "# Run this notebook to produce the cutout catalogs!"
   ]
  },
  {
   "cell_type": "markdown",
   "metadata": {},
   "source": [
    "Potential TODO: Write code for creating the pickles?\n",
    "Potential TODO: Write code for downloading all the fields in advance?"
   ]
  },
  {
   "cell_type": "markdown",
   "metadata": {},
   "source": [
    "Create the annotated csv catalog"
   ]
  },
  {
   "cell_type": "code",
   "execution_count": null,
   "metadata": {
    "collapsed": true
   },
   "outputs": [],
   "source": [
    "import pandas as pd\n",
    "import swap\n",
    "\n",
    "\n",
    "diagnostic_directory = '/nfs/slac/g/ki/ki18/cpd/swap_catalog_diagnostics/'\n",
    "annotated_catalog_path = diagnostic_directory + 'annotated_catalog.csv'\n",
    "base_collection_path = '/nfs/slac/g/ki/ki18/cpd/swap/pickles/09.02.15/'\n",
    "\n",
    "stages = range(1, 3)\n",
    "categories = ['ID', 'ZooID', 'location', 'mean_probability', 'category', 'kind', 'flavor', \n",
    "              'state', 'status', 'truth', 'stage']\n",
    "annotation_categories = ['At_X', 'At_Y', 'PD', 'PL']\n",
    "\n",
    "catalog = []\n",
    "for stage in stages:\n",
    "    print(stage)\n",
    "    collection_path = base_collection_path + 'stage{0}'.format(stage) + '/CFHTLS_collection.pickle'\n",
    "    collection = swap.read_pickle(collection_path, 'collection')\n",
    "    for ID in collection.list():\n",
    "\n",
    "        subject = collection.member[ID]\n",
    "        catalog_i = []\n",
    "        \n",
    "        # for stage1 we shall skip the tests for now\n",
    "        if (stage == 1) * (subject.category == 'test'):\n",
    "            continue\n",
    "        \n",
    "        # flatten out x and y. also cut out empty entries\n",
    "        annotationhistory = subject.annotationhistory\n",
    "        x_unflat = annotationhistory['At_X']\n",
    "        x = np.array([xi for xj in x_unflat for xi in xj])\n",
    "\n",
    "        # cut out catalogs with no clicks\n",
    "        if len(x) < 1:\n",
    "            continue\n",
    "        # oh yeah there's that absolutely nutso entry with 50k clicks\n",
    "        if len(x) > 10000:\n",
    "            continue\n",
    "        \n",
    "        for category in categories:\n",
    "            if category == 'stage':\n",
    "                catalog_i.append(stage)\n",
    "            else:\n",
    "                catalog_i.append(subject.__dict__[category])\n",
    "        for category in annotation_categories:\n",
    "            catalog_i.append(list(annotationhistory[category]))\n",
    "            \n",
    "        catalog.append(catalog_i)\n",
    "catalog = pd.DataFrame(catalog, columns=categories + annotation_categories)\n",
    "\n",
    "# save catalog\n",
    "catalog.to_csv(annotated_catalog_path)"
   ]
  },
  {
   "cell_type": "markdown",
   "metadata": {},
   "source": [
    "Create the knownlens catalog"
   ]
  },
  {
   "cell_type": "code",
   "execution_count": null,
   "metadata": {
    "collapsed": true
   },
   "outputs": [],
   "source": [
    "knownlens_dir = '/nfs/slac/g/ki/ki18/cpd/code/strongcnn/catalog/knownlens/'\n",
    "knownlensID = pd.read_csv(knownlens_dir + 'knownlensID', sep=' ')\n",
    "listfiles_d1_d11 = pd.read_csv(knownlens_dir + 'listfiles_d1_d11.txt', sep=' ')\n",
    "knownlenspath = knownlens_dir + 'knownlens.csv'\n",
    "\n",
    "X2 = listfiles_d1_d11[listfiles_d1_d11['CFHTID'].isin(knownlensID['CFHTID'])]  # cuts down to like 212 entries.\n",
    "\n",
    "ZooID = []\n",
    "\n",
    "for i in range(len(Y)):\n",
    "    ZooID.append(X2['ZooID'][X2['CFHTID'] == knownlensID['CFHTID'][i]].values[0])\n",
    "\n",
    "knownlensID['ZooID'] = ZooID\n",
    "\n",
    "knownlensID.to_csv(knownlenspath)"
   ]
  },
  {
   "cell_type": "markdown",
   "metadata": {},
   "source": [
    "Convert the annotated catalog and knownlens catalog into cluster catalogs and cutouts"
   ]
  },
  {
   "cell_type": "code",
   "execution_count": 2,
   "metadata": {
    "collapsed": false
   },
   "outputs": [
    {
     "data": {
      "text/plain": [
       "0"
      ]
     },
     "execution_count": 2,
     "metadata": {},
     "output_type": "execute_result"
    }
   ],
   "source": [
    "# code to regenerate the catalogs\n",
    "base_directory = '/nfs/slac/g/ki/ki18/cpd/swap_catalog_diagnostics/'\n",
    "cluster_directory = base_directory\n",
    "\n",
    "## uncomment this line when updating the shared catalog!\n",
    "# base_directory = '/nfs/slac/g/ki/ki18/cpd/swap_catalog/'\n",
    "# cluster_directory = base_directory + 'clusters/'\n",
    "\n",
    "\n",
    "field_directory = base_directory\n",
    "knownlens_path = base_directory + 'knownlens.csv'\n",
    "collection_path = base_directory + 'annotated_catalog.csv'\n",
    "catalog_path = cluster_directory + 'catalog.csv'\n",
    "\n",
    "# if we're rerunning this code, we should remove the old cluster pngs,\n",
    "# all of which have *_*.png\n",
    "from glob import glob\n",
    "files_to_delete = glob(cluster_directory + '*_*.png')\n",
    "from os import remove\n",
    "for delete_this_file in files_to_delete:\n",
    "    remove(delete_this_file)\n",
    "\n",
    "\n",
    "# run create catalog code. This can take a while.\n",
    "from subprocess import call\n",
    "command = ['python', '/nfs/slac/g/ki/ki18/cpd/code/strongcnn/code/create_catalogs.py',\n",
    "           '--collection', collection_path,\n",
    "           '--knownlens', knownlens_path,\n",
    "           '--clusters', cluster_directory,\n",
    "           '--fields', field_directory,\n",
    "           #'--augment', augmented_directory,\n",
    "           #'--do_a_few', '100',\n",
    "           ]\n",
    "call(command)"
   ]
  },
  {
   "cell_type": "code",
   "execution_count": null,
   "metadata": {
    "collapsed": true
   },
   "outputs": [],
   "source": []
  }
 ],
 "metadata": {
  "kernelspec": {
   "display_name": "Python 2",
   "language": "python",
   "name": "python2"
  },
  "language_info": {
   "codemirror_mode": {
    "name": "ipython",
    "version": 2
   },
   "file_extension": ".py",
   "mimetype": "text/x-python",
   "name": "python",
   "nbconvert_exporter": "python",
   "pygments_lexer": "ipython2",
   "version": "2.7.6"
  }
 },
 "nbformat": 4,
 "nbformat_minor": 0
}
