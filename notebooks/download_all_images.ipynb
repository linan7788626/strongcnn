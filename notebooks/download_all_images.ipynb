{
 "metadata": {
  "name": "",
  "signature": "sha256:ca25ea66859a8958a5b00d4e95969b19dc82be5d1a1bdd8a377ec9df798d0c8e"
 },
 "nbformat": 3,
 "nbformat_minor": 0,
 "worksheets": [
  {
   "cells": [
    {
     "cell_type": "markdown",
     "metadata": {},
     "source": [
      "# Download All The Images\n",
      "\n",
      "You need a SpaceWarps installation plus pickles in order to be able to do the first step of reducing to a catalog. Sorry.\n",
      "\n",
      "I skipped stage1 tests that were still undecided. I think those go into stage 2. This saves a lot of images probably."
     ]
    },
    {
     "cell_type": "markdown",
     "metadata": {},
     "source": [
      "## TODO:\n",
      "- Incorporate skill into outlier_clusters_dbscan\n",
      "- add check_make for the different directories\n",
      "- add object detection for all objects in field as well as click locations\n",
      "- paths for catalogs etc are now messed up\n",
      "\n",
      "- put in the real lenses\n",
      "\n",
      "- remake cutouts using just sims and duds from stage1 as well as knownlens, and everything from stage2\n",
      "- next time when making the clusters make the filenames and alpha statuses too."
     ]
    },
    {
     "cell_type": "code",
     "collapsed": false,
     "input": [
      "# Here you specify some paths for files!\n",
      "project_path = '/Volumes/Seagate/cs231n/'\n",
      "# pickles path\n",
      "base_collection_path = project_path + 'swap_pickles/09.02.15/'\n",
      "# catalog path\n",
      "annotated_catalog_path = project_path + 'catalog/annotated_catalog.csv'\n",
      "# repeat without annotations\n",
      "unannotated_catalog_path = project_path + 'catalog/unannotated_catalog.csv'\n",
      "# cluster catalog path\n",
      "cluster_catalog_path = project_path + 'catalog/cluster_catalog.csv'\n",
      "# images path\n",
      "images_path = project_path + 'images/fields/'\n",
      "# cutouts path\n",
      "cutouts_path = project_path + 'images/cutouts/'\n",
      "# cache dir for clustering\n",
      "cachedir = '../.cache'\n",
      "# knownlens catalog\n",
      "knownlens_path = project_path + 'knownlens/knownlens.csv'"
     ],
     "language": "python",
     "metadata": {},
     "outputs": []
    },
    {
     "cell_type": "code",
     "collapsed": false,
     "input": [
      "# Here are some other config parameters\n",
      "categories = ['ID', 'ZooID', 'location', 'mean_probability', 'category', 'kind', 'flavor', 'state', 'status', 'truth',\n",
      "              'stage']\n",
      "# annotation_categories = ['At_X', 'At_Y', 'ItWas', 'Name', 'PD', 'PL']\n",
      "annotation_categories = ['At_X', 'At_Y', 'PD', 'PL']\n",
      "cluster_catalog_labels = ['cluster_label', 'cluster_ID', 'x', 'y', 'num_markers', 'skill_sum', 'dist_within',\n",
      "                          'cutoutname', 'fieldname']\n",
      "\n",
      "eps = int(96 * 0.5)\n",
      "min_samples = 2\n",
      "stamp_size = eps * 2"
     ],
     "language": "python",
     "metadata": {},
     "outputs": [],
     "prompt_number": 12
    },
    {
     "cell_type": "code",
     "collapsed": false,
     "input": [
      "from sklearn.cluster import DBSCAN\n",
      "from sklearn.metrics import pairwise_distances\n",
      "from sklearn.externals import joblib\n",
      "import pandas as pd\n",
      "import numpy as np\n",
      "from numpy import log2, ndarray\n",
      "\n",
      "# ======================================================================\n",
      "\n",
      "\n",
      "def outlier_clusters_dbscan(x, y, skill=None, memory=None,\n",
      "                            eps=25, min_samples=5,\n",
      "                            convert_outliers=True):\n",
      "    \"\"\"\n",
      "    DBSCAN parameters\n",
      "    eps : float, optional\n",
      "        The maximum distance between two samples for them to be considered\n",
      "        as in the same neighborhood.\n",
      "    min_samples : int, optional\n",
      "        The number of samples in a neighborhood for a point to be considered\n",
      "        as a core point.\n",
      "        \n",
      "    convert_outliers : binary, optional\n",
      "        DBSCAN assigns outliers a cluster label -1. This says take each -1 and give it a unique positive value\n",
      "    \"\"\"\n",
      "    \n",
      "    # TODO: incorporate skill\n",
      "    data = np.vstack((x, y)).T\n",
      "\n",
      "    if len(data) == 0:\n",
      "        # uh.\n",
      "        print('clustering: NO cluster members!')\n",
      "        cluster_centers = np.array([[-1, -1]])\n",
      "        cluster_labels = []\n",
      "        labels = []\n",
      "        n_clusters = 0\n",
      "        dist_within = np.array([])\n",
      "\n",
      "    elif len(data) == 1:\n",
      "        #print('clustering: only 1 data point!')\n",
      "        cluster_centers = data\n",
      "        cluster_labels = [0]\n",
      "        labels = np.array([0])\n",
      "        n_clusters = 1\n",
      "        dist_within = np.array([0])\n",
      "\n",
      "    else:\n",
      "\n",
      "        clusterer = DBSCAN(eps=eps, min_samples=min_samples)\n",
      "        db = clusterer.fit(data)\n",
      "        labels = db.labels_\n",
      "        n_clusters = len(set(labels))\n",
      "        cluster_labels = list(set(labels))\n",
      "        if convert_outliers:\n",
      "            # now step through all the labels and set the -1s each to a new unique label\n",
      "            label_max = np.max((max(cluster_labels) + 1, 101))\n",
      "            for label_i, label in enumerate(labels):\n",
      "                if label == -1:\n",
      "                    labels[label_i] = label_max\n",
      "                    label_max += 1\n",
      "            cluster_labels = list(set(labels))\n",
      "        # cludgey\n",
      "        cluster_centers = np.array([np.mean(data[labels == i], axis=0)\n",
      "                                    for i in cluster_labels])\n",
      "        \n",
      "\n",
      "    # print n_clusters\n",
      "    # print labels\n",
      "\n",
      "    # cludgey\n",
      "    dist_within_final = np.array([np.max(pairwise_distances(\n",
      "            data[labels == i])) for i in cluster_labels])\n",
      "\n",
      "    return cluster_centers, cluster_labels, labels, n_clusters, dist_within_final\n",
      "\n",
      "outlier_clusters = outlier_clusters_dbscan\n",
      "\n",
      "def shannon(x):\n",
      "\n",
      "    if isinstance(x, ndarray) == False:\n",
      "\n",
      "        if x>0:\n",
      "            res = x*log2(x)\n",
      "        else:\n",
      "            res = 0.0\n",
      "    \n",
      "    else:\n",
      "        x[x == 0] = 1.0\n",
      "        res = x*log2(x)\n",
      "\n",
      "    return res\n",
      "\n",
      "def expectedInformationGain(p0, M_ll, M_nn):\n",
      "\n",
      "    p1 = 1-p0\n",
      "\n",
      "    I =   p0 * (shannon(M_ll) + shannon(1-M_ll)) \\\n",
      "        + p1 * (shannon(M_nn) + shannon(1-M_nn)) \\\n",
      "        - shannon(M_ll*p0 + (1-M_nn)*p1) \\\n",
      "        - shannon((1-M_ll)*p0 + M_nn*p1)\n",
      "\n",
      "    return I"
     ],
     "language": "python",
     "metadata": {},
     "outputs": [],
     "prompt_number": 4
    },
    {
     "cell_type": "code",
     "collapsed": false,
     "input": [
      "from scipy.ndimage import imread\n",
      "from scipy.misc import imsave\n",
      "from os import path\n",
      "from urllib import FancyURLopener\n",
      "\n",
      "# the fancy way of scraping images from the web; you gotta pretend you are a browser\n",
      "class MyOpener(FancyURLopener):\n",
      "    version = 'Mozilla/5.0 (Windows; U; Windows NT 5.1; it; rv:1.8.1.11) Gecko/20071127 Firefox/2.0.0.11'\n",
      "myopener = MyOpener()\n",
      "\n",
      "def get_online_png(url, outname):\n",
      "    fname = url.split('/')[-1]\n",
      "\n",
      "    # download file if we don't already have it\n",
      "    if not path.exists(outname):\n",
      "        F = myopener.retrieve(url, outname)\n",
      "    else:\n",
      "        # TODO: this is glitched?!\n",
      "        F = [outname]\n",
      "    I = imread(F[0]) * 1. / 255\n",
      "    return I"
     ],
     "language": "python",
     "metadata": {},
     "outputs": [],
     "prompt_number": 5
    },
    {
     "cell_type": "markdown",
     "metadata": {},
     "source": [
      "## reduce pickles to catalog"
     ]
    },
    {
     "cell_type": "markdown",
     "metadata": {},
     "source": [
      "A catalog of stage1 and stage2 field objects with:\n",
      "    - ID (for later retrieval)\n",
      "    - probability from users\n",
      "I could probably reduce the following into one or two parameters\n",
      "    - category\n",
      "    - kind\n",
      "    - flavor\n",
      "    - state\n",
      "    - status\n",
      "    - truth\n",
      "When I make the cutouts I will also need:\n",
      "    - locations of clicks and associated skills"
     ]
    },
    {
     "cell_type": "code",
     "collapsed": false,
     "input": [
      "import swap\n",
      "stages = range(1, 3)\n",
      "\n",
      "\n",
      "# TODO: incorporate knownlens info.\n",
      "catalog = []\n",
      "for stage in stages:\n",
      "    print(stage)\n",
      "    collection_path = base_collection_path + 'stage{0}'.format(stage) + '/CFHTLS_collection.pickle'\n",
      "    collection = swap.read_pickle(collection_path, 'collection')\n",
      "    for ID in collection.list():\n",
      "\n",
      "        subject = collection.member[ID]\n",
      "        catalog_i = []\n",
      "        \n",
      "        # for stage1 we shall skip the tests for now\n",
      "        if (stage == 1) * (subject.category == 'test'):\n",
      "            continue\n",
      "        \n",
      "        # flatten out x and y. also cut out empty entries\n",
      "        annotationhistory = subject.annotationhistory\n",
      "        x_unflat = annotationhistory['At_X']\n",
      "        x = np.array([xi for xj in x_unflat for xi in xj])\n",
      "\n",
      "        # cut out catalogs with no clicks\n",
      "        if len(x) < 1:\n",
      "            continue\n",
      "        # oh yeah there's that absolutely nutso entry with 50k clicks\n",
      "        if len(x) > 10000:\n",
      "            continue\n",
      "        \n",
      "        for category in categories:\n",
      "            if category == 'stage':\n",
      "                catalog_i.append(stage)\n",
      "            else:\n",
      "                catalog_i.append(subject.__dict__[category])\n",
      "        for category in annotation_categories:\n",
      "            catalog_i.append(list(annotationhistory[category]))\n",
      "            \n",
      "        catalog.append(catalog_i)\n",
      "catalog = pd.DataFrame(catalog, columns=categories + annotation_categories)\n",
      "\n",
      "# save catalog\n",
      "catalog.to_csv(annotated_catalog_path)\n",
      "\n",
      "# now repeat without annotations. Saves a lot of space!\n",
      "catalog[categories].to_csv(unannotated_catalog_path)"
     ],
     "language": "python",
     "metadata": {},
     "outputs": [
      {
       "output_type": "stream",
       "stream": "stdout",
       "text": [
        "1\n",
        "SWAP: read an old"
       ]
      },
      {
       "output_type": "stream",
       "stream": "stdout",
       "text": [
        " collection of 437276 subjects from /Volumes/Seagate/cs231n/swap_pickles/09.02.15/stage1/CFHTLS_collection.pickle\n",
        "2"
       ]
      },
      {
       "output_type": "stream",
       "stream": "stdout",
       "text": [
        "\n",
        "SWAP: read an old"
       ]
      },
      {
       "output_type": "stream",
       "stream": "stdout",
       "text": [
        " collection of 4032 subjects from /Volumes/Seagate/cs231n/swap_pickles/09.02.15/stage2/CFHTLS_collection.pickle\n"
       ]
      },
      {
       "ename": "IOError",
       "evalue": "[Errno 2] No such file or directory: '/Volumes/Seagate/cs231n/swap_pickles/catalog/annotated_catalog.csv'",
       "output_type": "pyerr",
       "traceback": [
        "\u001b[0;31m---------------------------------------------------------------------------\u001b[0m\n\u001b[0;31mIOError\u001b[0m                                   Traceback (most recent call last)",
        "\u001b[0;32m<ipython-input-6-9b223e6460fb>\u001b[0m in \u001b[0;36m<module>\u001b[0;34m()\u001b[0m\n\u001b[1;32m     42\u001b[0m \u001b[0;34m\u001b[0m\u001b[0m\n\u001b[1;32m     43\u001b[0m \u001b[0;31m# save catalog\u001b[0m\u001b[0;34m\u001b[0m\u001b[0;34m\u001b[0m\u001b[0m\n\u001b[0;32m---> 44\u001b[0;31m \u001b[0mcatalog\u001b[0m\u001b[0;34m.\u001b[0m\u001b[0mto_csv\u001b[0m\u001b[0;34m(\u001b[0m\u001b[0mannotated_catalog_path\u001b[0m\u001b[0;34m)\u001b[0m\u001b[0;34m\u001b[0m\u001b[0m\n\u001b[0m\u001b[1;32m     45\u001b[0m \u001b[0;34m\u001b[0m\u001b[0m\n\u001b[1;32m     46\u001b[0m \u001b[0;31m# now repeat without annotations. Saves a lot of space!\u001b[0m\u001b[0;34m\u001b[0m\u001b[0;34m\u001b[0m\u001b[0m\n",
        "\u001b[0;32m/Library/Frameworks/EPD64.framework/Versions/7.3/lib/python2.7/site-packages/pandas/util/decorators.pyc\u001b[0m in \u001b[0;36mwrapper\u001b[0;34m(*args, **kwargs)\u001b[0m\n\u001b[1;32m     86\u001b[0m                 \u001b[0;32melse\u001b[0m\u001b[0;34m:\u001b[0m\u001b[0;34m\u001b[0m\u001b[0m\n\u001b[1;32m     87\u001b[0m                     \u001b[0mkwargs\u001b[0m\u001b[0;34m[\u001b[0m\u001b[0mnew_arg_name\u001b[0m\u001b[0;34m]\u001b[0m \u001b[0;34m=\u001b[0m \u001b[0mnew_arg_value\u001b[0m\u001b[0;34m\u001b[0m\u001b[0m\n\u001b[0;32m---> 88\u001b[0;31m             \u001b[0;32mreturn\u001b[0m \u001b[0mfunc\u001b[0m\u001b[0;34m(\u001b[0m\u001b[0;34m*\u001b[0m\u001b[0margs\u001b[0m\u001b[0;34m,\u001b[0m \u001b[0;34m**\u001b[0m\u001b[0mkwargs\u001b[0m\u001b[0;34m)\u001b[0m\u001b[0;34m\u001b[0m\u001b[0m\n\u001b[0m\u001b[1;32m     89\u001b[0m         \u001b[0;32mreturn\u001b[0m \u001b[0mwrapper\u001b[0m\u001b[0;34m\u001b[0m\u001b[0m\n\u001b[1;32m     90\u001b[0m     \u001b[0;32mreturn\u001b[0m \u001b[0m_deprecate_kwarg\u001b[0m\u001b[0;34m\u001b[0m\u001b[0m\n",
        "\u001b[0;32m/Library/Frameworks/EPD64.framework/Versions/7.3/lib/python2.7/site-packages/pandas/core/frame.pyc\u001b[0m in \u001b[0;36mto_csv\u001b[0;34m(self, path_or_buf, sep, na_rep, float_format, columns, header, index, index_label, mode, encoding, quoting, quotechar, line_terminator, chunksize, tupleize_cols, date_format, doublequote, escapechar, **kwds)\u001b[0m\n\u001b[1;32m   1174\u001b[0m                                      \u001b[0mdoublequote\u001b[0m\u001b[0;34m=\u001b[0m\u001b[0mdoublequote\u001b[0m\u001b[0;34m,\u001b[0m\u001b[0;34m\u001b[0m\u001b[0m\n\u001b[1;32m   1175\u001b[0m                                      escapechar=escapechar)\n\u001b[0;32m-> 1176\u001b[0;31m         \u001b[0mformatter\u001b[0m\u001b[0;34m.\u001b[0m\u001b[0msave\u001b[0m\u001b[0;34m(\u001b[0m\u001b[0;34m)\u001b[0m\u001b[0;34m\u001b[0m\u001b[0m\n\u001b[0m\u001b[1;32m   1177\u001b[0m \u001b[0;34m\u001b[0m\u001b[0m\n\u001b[1;32m   1178\u001b[0m         \u001b[0;32mif\u001b[0m \u001b[0mpath_or_buf\u001b[0m \u001b[0;32mis\u001b[0m \u001b[0mNone\u001b[0m\u001b[0;34m:\u001b[0m\u001b[0;34m\u001b[0m\u001b[0m\n",
        "\u001b[0;32m/Library/Frameworks/EPD64.framework/Versions/7.3/lib/python2.7/site-packages/pandas/core/format.pyc\u001b[0m in \u001b[0;36msave\u001b[0;34m(self)\u001b[0m\n\u001b[1;32m   1377\u001b[0m         \u001b[0;32melse\u001b[0m\u001b[0;34m:\u001b[0m\u001b[0;34m\u001b[0m\u001b[0m\n\u001b[1;32m   1378\u001b[0m             f = com._get_handle(self.path_or_buf, self.mode,\n\u001b[0;32m-> 1379\u001b[0;31m                                 encoding=self.encoding)\n\u001b[0m\u001b[1;32m   1380\u001b[0m             \u001b[0mclose\u001b[0m \u001b[0;34m=\u001b[0m \u001b[0mTrue\u001b[0m\u001b[0;34m\u001b[0m\u001b[0m\n\u001b[1;32m   1381\u001b[0m \u001b[0;34m\u001b[0m\u001b[0m\n",
        "\u001b[0;32m/Library/Frameworks/EPD64.framework/Versions/7.3/lib/python2.7/site-packages/pandas/core/common.pyc\u001b[0m in \u001b[0;36m_get_handle\u001b[0;34m(path, mode, encoding, compression)\u001b[0m\n\u001b[1;32m   2714\u001b[0m                 \u001b[0mf\u001b[0m \u001b[0;34m=\u001b[0m \u001b[0mopen\u001b[0m\u001b[0;34m(\u001b[0m\u001b[0mpath\u001b[0m\u001b[0;34m,\u001b[0m \u001b[0mmode\u001b[0m\u001b[0;34m,\u001b[0m \u001b[0merrors\u001b[0m\u001b[0;34m=\u001b[0m\u001b[0;34m'replace'\u001b[0m\u001b[0;34m)\u001b[0m\u001b[0;34m\u001b[0m\u001b[0m\n\u001b[1;32m   2715\u001b[0m         \u001b[0;32melse\u001b[0m\u001b[0;34m:\u001b[0m\u001b[0;34m\u001b[0m\u001b[0m\n\u001b[0;32m-> 2716\u001b[0;31m             \u001b[0mf\u001b[0m \u001b[0;34m=\u001b[0m \u001b[0mopen\u001b[0m\u001b[0;34m(\u001b[0m\u001b[0mpath\u001b[0m\u001b[0;34m,\u001b[0m \u001b[0mmode\u001b[0m\u001b[0;34m)\u001b[0m\u001b[0;34m\u001b[0m\u001b[0m\n\u001b[0m\u001b[1;32m   2717\u001b[0m \u001b[0;34m\u001b[0m\u001b[0m\n\u001b[1;32m   2718\u001b[0m     \u001b[0;32mreturn\u001b[0m \u001b[0mf\u001b[0m\u001b[0;34m\u001b[0m\u001b[0m\n",
        "\u001b[0;31mIOError\u001b[0m: [Errno 2] No such file or directory: '/Volumes/Seagate/cs231n/swap_pickles/catalog/annotated_catalog.csv'"
       ]
      }
     ],
     "prompt_number": 6
    },
    {
     "cell_type": "code",
     "collapsed": false,
     "input": [
      "check_types = ['category', 'kind', 'flavor', 'state', 'status', 'truth']\n",
      "for check_type in check_types:\n",
      "    print(check_type, np.unique(catalog[check_type]))"
     ],
     "language": "python",
     "metadata": {},
     "outputs": [
      {
       "output_type": "stream",
       "stream": "stdout",
       "text": [
        "('category', array(['test', 'training'], dtype=object))\n",
        "('kind', array(['dud', 'sim', 'test'], dtype=object))\n",
        "('flavor', array(['dud', u'lensed galaxy', u'lensed quasar', u'lensing cluster',\n",
        "       'test'], dtype=object))\n",
        "('state', array(['active', 'inactive'], dtype=object))\n",
        "('status', array(['detected', 'rejected', 'undecided'], dtype=object))\n",
        "('truth', array(['LENS', 'NOT', 'UNKNOWN'], dtype=object))\n"
       ]
      }
     ],
     "prompt_number": 9
    },
    {
     "cell_type": "markdown",
     "metadata": {},
     "source": [
      "Note: For evaluating the objects in catalog, like the annotation_categories, you will want to use ast.literal_eval(object)"
     ]
    },
    {
     "cell_type": "markdown",
     "metadata": {},
     "source": [
      "## Create Cluster Catalog"
     ]
    },
    {
     "cell_type": "code",
     "collapsed": false,
     "input": [
      "from ast import literal_eval\n",
      "\n",
      "catalog = pd.read_csv(annotated_catalog_path)\n",
      "memory = joblib.Memory(cachedir=cachedir)\n",
      "# memory.clear()\n",
      "\n",
      "cluster_catalog = []\n",
      "ith = 0\n",
      "cluster_ID = 0\n",
      "# step through the objects in catalog\n",
      "for cati in range(len(catalog)):\n",
      "    \n",
      "    # get markers\n",
      "    x_unflat = literal_eval(catalog['At_X'][cati])\n",
      "    y_unflat = literal_eval(catalog['At_Y'][cati])\n",
      "    # flatten out x and y. also cut out empty entries\n",
      "    x = np.array([xi for xj in x_unflat for xi in xj])\n",
      "    y = np.array([yi for yj in y_unflat for yi in yj])\n",
      "    \n",
      "    # repeat for PD and PL = proxies for weight\n",
      "    PL_everyone = literal_eval(catalog['PL'][cati])\n",
      "    PL_unflat = []\n",
      "    PD_everyone = literal_eval(catalog['PD'][cati])\n",
      "    PD_unflat = []\n",
      "    for i, xj in enumerate(x_unflat):\n",
      "        # len(xj) of empty = 0\n",
      "        PL_unflat.append([PL_everyone[i]] * len(xj))\n",
      "        PD_unflat.append([PD_everyone[i]] * len(xj))\n",
      "\n",
      "    PL = np.array([PLi for PLj in PL_unflat for PLi in PLj])\n",
      "    PD = np.array([PDi for PDj in PD_unflat for PDi in PDj])\n",
      "    skill = expectedInformationGain(0.5, PL, PD)\n",
      "\n",
      "    # cluster\n",
      "    cluster_centers, cluster_center_labels, cluster_labels, n_clusters, dist_within = \\\n",
      "        outlier_clusters(x, y, skill, memory=memory, eps=eps, min_samples=min_samples)\n",
      "    \n",
      "    # add to catalog\n",
      "    for cluster_center_label_i, cluster_center_label in enumerate(cluster_center_labels):\n",
      "        \n",
      "        cluster_center = cluster_centers[cluster_center_label_i]\n",
      "        x, y = cluster_center\n",
      "\n",
      "        if np.int(np.ceil(x - stamp_size / 2)) >= 440:\n",
      "            print('Mislabled cluster? {0} {1} {2} {3}'.format(cati, cluster_center_label_i, x, y))\n",
      "            continue\n",
      "        elif np.int(np.ceil(y - stamp_size / 2)) >= 440:\n",
      "            print('Mislabled cluster? {0} {1} {2} {3}'.format(cati, cluster_center_label_i, x, y))\n",
      "            continue\n",
      "        elif np.int(np.floor(x + stamp_size / 2)) < 0:\n",
      "            print('Mislabled cluster? {0} {1} {2} {3}'.format(cati, cluster_center_label_i, x, y))\n",
      "            continue        \n",
      "        elif np.int(np.floor(y + stamp_size / 2)) < 0:\n",
      "            print('Mislabled cluster? {0} {1} {2} {3}'.format(cati, cluster_center_label_i, x, y))\n",
      "            continue\n",
      "        \n",
      "        if cluster_center_label == -1 or cluster_center_label > 100:\n",
      "            # outlier cluster\n",
      "            # so really every point is its own cluster...\n",
      "            D = 0\n",
      "        else:\n",
      "            D = dist_within[cluster_center_label]\n",
      "            \n",
      "        members = (cluster_labels == cluster_center_label)\n",
      "\n",
      "        N0 = np.sum(members)\n",
      "        S = np.sum(skill[members])\n",
      "            \n",
      "        # ['cluster_label', 'cluster_ID', 'x', 'y', 'num_markers', 'skill_sum', 'dist_within']\n",
      "        \n",
      "        fieldname = '{0}.png'.format(catalog['ZooID'][cati])\n",
      "        cutoutname = '{1}_{0}.png'.format(catalog['ZooID'][cati], cluster_ID)\n",
      "        cluster_catalog_i = [catalog[category][cati] for category in categories] + \\\n",
      "                            [cluster_center_label, cluster_ID, cluster_center[0], cluster_center[1], N0, S, D,\n",
      "                             cutoutname, fieldname]\n",
      "        cluster_catalog.append(cluster_catalog_i)\n",
      "        \n",
      "        cluster_ID += 1\n",
      "    \n",
      " \n",
      "cluster_catalog = pd.DataFrame(cluster_catalog, columns=categories + cluster_catalog_labels)\n",
      "\n",
      "\n",
      "# save catalog\n",
      "cluster_catalog.to_csv(cluster_catalog_path)"
     ],
     "language": "python",
     "metadata": {},
     "outputs": [
      {
       "output_type": "stream",
       "stream": "stdout",
       "text": [
        "Mislabled cluster? 40 6 -107.0 271.0\n",
        "Mislabled cluster? 263 4 133.600006104 499.899993896"
       ]
      },
      {
       "output_type": "stream",
       "stream": "stdout",
       "text": [
        "\n",
        "Mislabled cluster? 625 5 348.0 532.0"
       ]
      },
      {
       "output_type": "stream",
       "stream": "stdout",
       "text": [
        "\n",
        "Mislabled cluster? 662 0 643.5 318.25"
       ]
      },
      {
       "output_type": "stream",
       "stream": "stdout",
       "text": [
        "\n",
        "Mislabled cluster? 1127 5 556.0 -1290.0"
       ]
      },
      {
       "output_type": "stream",
       "stream": "stdout",
       "text": [
        "\n",
        "Mislabled cluster? 1684 1 121.599993896 534.4"
       ]
      },
      {
       "output_type": "stream",
       "stream": "stdout",
       "text": [
        "\n",
        "Mislabled cluster? 1813 2 490.0 345.0"
       ]
      },
      {
       "output_type": "stream",
       "stream": "stdout",
       "text": [
        "\n",
        "Mislabled cluster? 1813 3 -120.0 339.0\n",
        "Mislabled cluster? 1874 8 492.0 -38.0"
       ]
      },
      {
       "output_type": "stream",
       "stream": "stdout",
       "text": [
        "\n",
        "Mislabled cluster? 1900 1 -175.0 288.0"
       ]
      },
      {
       "output_type": "stream",
       "stream": "stdout",
       "text": [
        "\n",
        "Mislabled cluster? 2009 2 -94.4375 199.53125"
       ]
      },
      {
       "output_type": "stream",
       "stream": "stdout",
       "text": [
        "\n",
        "Mislabled cluster? 2009 3 -68.4375 273.53125\n",
        "Mislabled cluster? 2034 1 512.08001709 260.559997559"
       ]
      },
      {
       "output_type": "stream",
       "stream": "stdout",
       "text": [
        "\n",
        "Mislabled cluster? 2034 2 576.08001709 498.559997559\n",
        "Mislabled cluster? 2129 1 -68.0 155.0"
       ]
      },
      {
       "output_type": "stream",
       "stream": "stdout",
       "text": [
        "\n",
        "Mislabled cluster? 2145 3 -374.160003662 174.349990845"
       ]
      },
      {
       "output_type": "stream",
       "stream": "stdout",
       "text": [
        "\n",
        "Mislabled cluster? 2145 6 526.119995117 174.789985657\n",
        "Mislabled cluster? 2330 1 363.119995117 528.240005493"
       ]
      },
      {
       "output_type": "stream",
       "stream": "stdout",
       "text": [
        "\n",
        "Mislabled cluster? 2510 2 410.0 504.889350891"
       ]
      },
      {
       "output_type": "stream",
       "stream": "stdout",
       "text": [
        "\n",
        "Mislabled cluster? 2510 3 573.0 4.88935089111\n",
        "Mislabled cluster? 2564 3 10.5 524.0"
       ]
      },
      {
       "output_type": "stream",
       "stream": "stdout",
       "text": [
        "\n",
        "Mislabled cluster? 2654 0 334.600006104 504.400009155"
       ]
      },
      {
       "output_type": "stream",
       "stream": "stdout",
       "text": [
        "\n",
        "Mislabled cluster? 2679 5 -121.913330078 35.4166583252"
       ]
      },
      {
       "output_type": "stream",
       "stream": "stdout",
       "text": [
        "\n",
        "Mislabled cluster? 2694 4 292.0 524.0"
       ]
      },
      {
       "output_type": "stream",
       "stream": "stdout",
       "text": [
        "\n",
        "Mislabled cluster? 2799 4 -343.75 93.5099945068"
       ]
      },
      {
       "output_type": "stream",
       "stream": "stdout",
       "text": [
        "\n",
        "Mislabled cluster? 2799 7 61.0 534.0\n",
        "Mislabled cluster? 2865 1 529.58001709 283.059997559"
       ]
      },
      {
       "output_type": "stream",
       "stream": "stdout",
       "text": [
        "\n",
        "Mislabled cluster? 2980 7 -181.0 377.0"
       ]
      },
      {
       "output_type": "stream",
       "stream": "stdout",
       "text": [
        "\n",
        "Mislabled cluster? 2982 8 -59.8800048828 239.969978333\n",
        "Mislabled cluster? 2988 6 498.119995117 229.830001831"
       ]
      },
      {
       "output_type": "stream",
       "stream": "stdout",
       "text": [
        "\n",
        "Mislabled cluster? 3047 2 262.119995117 641.240005493"
       ]
      },
      {
       "output_type": "stream",
       "stream": "stdout",
       "text": [
        "\n",
        "Mislabled cluster? 3121 1 508.270833333 404.869791667"
       ]
      },
      {
       "output_type": "stream",
       "stream": "stdout",
       "text": [
        "\n",
        "Mislabled cluster? 3121 2 67.5 517.0\n",
        "Mislabled cluster? 3121 3 -113.21875 297.765625\n",
        "Mislabled cluster? 3121 4 -184.5 336.5\n",
        "Mislabled cluster? 3121 6 564.0 204.0\n",
        "Mislabled cluster? 3121 7 286.0 529.0\n",
        "Mislabled cluster? 3121 8 659.0 229.0\n",
        "Mislabled cluster? 3121 9 340.0 -196.0\n",
        "Mislabled cluster? 3121 10 396.0 -248.0\n",
        "Mislabled cluster? 3121 11 348.0 531.0\n",
        "Mislabled cluster? 3121 12 555.399993896 572.0\n",
        "Mislabled cluster? 3121 13 176.0 493.0\n",
        "Mislabled cluster? 3121 14 469.563720703 504.150028992\n",
        "Mislabled cluster? 3121 15 -189.0 272.0\n",
        "Mislabled cluster? 3121 16 514.171875 174.734375\n",
        "Mislabled cluster? 3121 17 229.733337402 510.449996948\n",
        "Mislabled cluster? 3121 18 -133.0 12.0\n",
        "Mislabled cluster? 3121 19 534.0 0.0\n",
        "Mislabled cluster? 3121 20 594.0 -85.0\n",
        "Mislabled cluster? 3121 21 285.0 -104.0\n",
        "Mislabled cluster? 3121 22 509.280029297 94.1600006104\n",
        "Mislabled cluster? 3121 23 -269.16998291 -43.9400024414\n",
        "Mislabled cluster? 3121 24 -117.179992676 -49.5800170898\n",
        "Mislabled cluster? 3121 25 -147.0 216.0\n",
        "Mislabled cluster? 3121 26 -62.0 -95.0\n",
        "Mislabled cluster? 3152 9 497.119995117 281.830001831"
       ]
      },
      {
       "output_type": "stream",
       "stream": "stdout",
       "text": [
        "\n",
        "Mislabled cluster? 3262 2 -124.91998291 -132.440002441"
       ]
      },
      {
       "output_type": "stream",
       "stream": "stdout",
       "text": [
        "\n",
        "Mislabled cluster? 3393 3 570.0 23.0"
       ]
      },
      {
       "output_type": "stream",
       "stream": "stdout",
       "text": [
        "\n",
        "Mislabled cluster? 3558 1 -107.0 161.5"
       ]
      },
      {
       "output_type": "stream",
       "stream": "stdout",
       "text": [
        "\n",
        "Mislabled cluster? 3558 2 -103.0 -87.5\n",
        "Mislabled cluster? 3558 5 -58.0 -16.0\n",
        "Mislabled cluster? 3673 0 -228.0 378.0"
       ]
      },
      {
       "output_type": "stream",
       "stream": "stdout",
       "text": [
        "\n",
        "Mislabled cluster? 3857 1 741.333335876 634.999994914"
       ]
      },
      {
       "output_type": "stream",
       "stream": "stdout",
       "text": [
        "\n",
        "Mislabled cluster? 3960 2 493.0 82.0"
       ]
      },
      {
       "output_type": "stream",
       "stream": "stdout",
       "text": [
        "\n",
        "Mislabled cluster? 4075 5 568.0 456.0"
       ]
      },
      {
       "output_type": "stream",
       "stream": "stdout",
       "text": [
        "\n",
        "Mislabled cluster? 4158 4 217.181809689 499.361266369"
       ]
      },
      {
       "output_type": "stream",
       "stream": "stdout",
       "text": [
        "\n",
        "Mislabled cluster? 4308 3 522.0 122.0"
       ]
      },
      {
       "output_type": "stream",
       "stream": "stdout",
       "text": [
        "\n",
        "Mislabled cluster? 4309 2 382.0 530.5\n",
        "Mislabled cluster? 4376 3 -375.639984131 101.669998169"
       ]
      },
      {
       "output_type": "stream",
       "stream": "stdout",
       "text": [
        "\n",
        "Mislabled cluster? 4386 4 506.5625 -11.46875"
       ]
      },
      {
       "output_type": "stream",
       "stream": "stdout",
       "text": [
        "\n",
        "Mislabled cluster? 4386 5 564.5625 165.53125\n",
        "Mislabled cluster? 4542 0 -87.9199829102 240.559997559"
       ]
      },
      {
       "output_type": "stream",
       "stream": "stdout",
       "text": [
        "\n",
        "Mislabled cluster? 4638 6 -49.8800048828 319.309989929"
       ]
      },
      {
       "output_type": "stream",
       "stream": "stdout",
       "text": [
        "\n",
        "Mislabled cluster? 4668 3 -49.8800048828 106.869995117"
       ]
      },
      {
       "output_type": "stream",
       "stream": "stdout",
       "text": [
        "\n",
        "Mislabled cluster? 4668 4 -53.8800048828 190.869995117\n",
        "Mislabled cluster? 4668 5 499.119995117 217.869995117\n",
        "Mislabled cluster? 4748 3 -98.0 354.0"
       ]
      },
      {
       "output_type": "stream",
       "stream": "stdout",
       "text": [
        "\n",
        "Mislabled cluster? 4815 2 10.0 503.0"
       ]
      },
      {
       "output_type": "stream",
       "stream": "stdout",
       "text": [
        "\n",
        "Mislabled cluster? 4815 3 -56.0 475.0\n",
        "Mislabled cluster? 4850 6 657.0 181.0"
       ]
      },
      {
       "output_type": "stream",
       "stream": "stdout",
       "text": [
        "\n",
        "Mislabled cluster? 4958 0 265.0 534.0"
       ]
      },
      {
       "output_type": "stream",
       "stream": "stdout",
       "text": [
        "\n",
        "Mislabled cluster? 5056 4 498.619995117 293.88999939"
       ]
      },
      {
       "output_type": "stream",
       "stream": "stdout",
       "text": [
        "\n",
        "Mislabled cluster? 5056 6 524.119995117 347.38999939\n",
        "Mislabled cluster? 5195 3 -98.2799987793 269.440002441"
       ]
      },
      {
       "output_type": "stream",
       "stream": "stdout",
       "text": [
        "\n",
        "Mislabled cluster? 5262 6 535.119995117 283.909980774"
       ]
      },
      {
       "output_type": "stream",
       "stream": "stdout",
       "text": [
        "\n",
        "Mislabled cluster? 5263 4 499.0 254.0\n",
        "Mislabled cluster? 5291 8 -318.66998291 15.0599975586"
       ]
      },
      {
       "output_type": "stream",
       "stream": "stdout",
       "text": [
        "\n",
        "Mislabled cluster? 5325 1 -197.289978027 -37.6300048828"
       ]
      },
      {
       "output_type": "stream",
       "stream": "stdout",
       "text": [
        "\n",
        "Mislabled cluster? 5343 1 553.24005127 340.680027771"
       ]
      },
      {
       "output_type": "stream",
       "stream": "stdout",
       "text": [
        "\n",
        "Mislabled cluster? 5449 4 -71.0 452.0"
       ]
      },
      {
       "output_type": "stream",
       "stream": "stdout",
       "text": [
        "\n",
        "Mislabled cluster? 5529 7 62.0800170898 611.559997559"
       ]
      },
      {
       "output_type": "stream",
       "stream": "stdout",
       "text": [
        "\n",
        "Mislabled cluster? 5545 1 286.720001221 575.440002441"
       ]
      },
      {
       "output_type": "stream",
       "stream": "stdout",
       "text": [
        "\n",
        "Mislabled cluster? 5577 6 502.119995117 181.409980774"
       ]
      },
      {
       "output_type": "stream",
       "stream": "stdout",
       "text": [
        "\n",
        "Mislabled cluster? 5577 7 496.119995117 233.409980774\n",
        "Mislabled cluster? 5615 1 518.0 241.0"
       ]
      },
      {
       "output_type": "stream",
       "stream": "stdout",
       "text": [
        "\n",
        "Mislabled cluster? 5782 1 515.08001709 624.559997559"
       ]
      },
      {
       "output_type": "stream",
       "stream": "stdout",
       "text": [
        "\n",
        "Mislabled cluster? 5929 2 -59.4350484212 -36.1022711182"
       ]
      },
      {
       "output_type": "stream",
       "stream": "stdout",
       "text": [
        "\n",
        "Mislabled cluster? 6061 6 -129.0 292.0"
       ]
      },
      {
       "output_type": "stream",
       "stream": "stdout",
       "text": [
        "\n",
        "Mislabled cluster? 6095 7 520.5625 266.53125"
       ]
      },
      {
       "output_type": "stream",
       "stream": "stdout",
       "text": [
        "\n",
        "Mislabled cluster? 6100 7 532.119995117 206.88999939"
       ]
      },
      {
       "output_type": "stream",
       "stream": "stdout",
       "text": [
        "\n",
        "Mislabled cluster? 6100 8 574.5625 178.53125\n",
        "Mislabled cluster? 6109 0 -88.0 446.0"
       ]
      },
      {
       "output_type": "stream",
       "stream": "stdout",
       "text": [
        "\n",
        "Mislabled cluster? 6141 0 -268.293991089 84.6820114136"
       ]
      },
      {
       "output_type": "stream",
       "stream": "stdout",
       "text": [
        "\n",
        "Mislabled cluster? 6256 3 478.440002441 488.680007935"
       ]
      },
      {
       "output_type": "stream",
       "stream": "stdout",
       "text": [
        "\n",
        "Mislabled cluster? 6307 4 492.119995117 372.389984131"
       ]
      },
      {
       "output_type": "stream",
       "stream": "stdout",
       "text": [
        "\n",
        "Mislabled cluster? 6307 8 506.119995117 216.88999939\n",
        "Mislabled cluster? 6341 1 503.828754172 198.55136024"
       ]
      },
      {
       "output_type": "stream",
       "stream": "stdout",
       "text": [
        "\n",
        "Mislabled cluster? 6414 0 499.08001709 178.559997559"
       ]
      },
      {
       "output_type": "stream",
       "stream": "stdout",
       "text": [
        "\n",
        "Mislabled cluster? 6526 4 256.333333333 536.0"
       ]
      },
      {
       "output_type": "stream",
       "stream": "stdout",
       "text": [
        "\n",
        "Mislabled cluster? 6526 7 171.0 552.0\n",
        "Mislabled cluster? 6747 3 -219.380004883 84.7199897766"
       ]
      },
      {
       "output_type": "stream",
       "stream": "stdout",
       "text": [
        "\n",
        "Mislabled cluster? 6774 1 493.696014404 141.632019806"
       ]
      },
      {
       "output_type": "stream",
       "stream": "stdout",
       "text": [
        "\n",
        "Mislabled cluster? 6844 5 -67.0 447.0"
       ]
      },
      {
       "output_type": "stream",
       "stream": "stdout",
       "text": [
        "\n",
        "Mislabled cluster? 6939 1 -120.0 228.0"
       ]
      },
      {
       "output_type": "stream",
       "stream": "stdout",
       "text": [
        "\n",
        "Mislabled cluster? 6966 3 316.0 523.199996948"
       ]
      },
      {
       "output_type": "stream",
       "stream": "stdout",
       "text": [
        "\n",
        "Mislabled cluster? 7221 1 278.0 589.399993896"
       ]
      },
      {
       "output_type": "stream",
       "stream": "stdout",
       "text": [
        "\n",
        "Mislabled cluster? 7282 4 -377.119995117 295.249984741"
       ]
      },
      {
       "output_type": "stream",
       "stream": "stdout",
       "text": [
        "\n",
        "Mislabled cluster? 7301 1 170.240020752 522.279998779"
       ]
      },
      {
       "output_type": "stream",
       "stream": "stdout",
       "text": [
        "\n",
        "Mislabled cluster? 7354 0 -59.0 176.0"
       ]
      },
      {
       "output_type": "stream",
       "stream": "stdout",
       "text": [
        "\n",
        "Mislabled cluster? 7359 1 -76.0 508.0"
       ]
      },
      {
       "output_type": "stream",
       "stream": "stdout",
       "text": [
        "\n",
        "Mislabled cluster? 7462 3 496.119995117 168.210006714"
       ]
      },
      {
       "output_type": "stream",
       "stream": "stdout",
       "text": [
        "\n",
        "Mislabled cluster? 7462 5 510.119995117 360.210006714\n",
        "Mislabled cluster? 7538 2 57.6960144043 504.032013702"
       ]
      },
      {
       "output_type": "stream",
       "stream": "stdout",
       "text": [
        "\n",
        "Mislabled cluster? 7552 5 257.0 -61.0"
       ]
      },
      {
       "output_type": "stream",
       "stream": "stdout",
       "text": [
        "\n",
        "Mislabled cluster? 7585 9 487.5 302.5"
       ]
      },
      {
       "output_type": "stream",
       "stream": "stdout",
       "text": [
        "\n",
        "Mislabled cluster? 7650 0 -62.1279907227 10.3839996338"
       ]
      },
      {
       "output_type": "stream",
       "stream": "stdout",
       "text": [
        "\n",
        "Mislabled cluster? 7650 1 -172.335998535 155.760006714\n",
        "Mislabled cluster? 7748 6 -190.25 172.160003662"
       ]
      },
      {
       "output_type": "stream",
       "stream": "stdout",
       "text": [
        "\n",
        "Mislabled cluster? 7752 9 -66.6400146484 473.656667633"
       ]
      },
      {
       "output_type": "stream",
       "stream": "stdout",
       "text": [
        "\n",
        "Mislabled cluster? 7796 0 511.0 467.0"
       ]
      },
      {
       "output_type": "stream",
       "stream": "stdout",
       "text": [
        "\n",
        "Mislabled cluster? 7812 2 544.0 385.0"
       ]
      },
      {
       "output_type": "stream",
       "stream": "stdout",
       "text": [
        "\n",
        "Mislabled cluster? 7879 4 505.0 297.0"
       ]
      },
      {
       "output_type": "stream",
       "stream": "stdout",
       "text": [
        "\n",
        "Mislabled cluster? 7900 1 498.026672363 214.990018768"
       ]
      },
      {
       "output_type": "stream",
       "stream": "stdout",
       "text": [
        "\n",
        "Mislabled cluster? 7945 1 -66.5714285714 245.857142857"
       ]
      },
      {
       "output_type": "stream",
       "stream": "stdout",
       "text": [
        "\n",
        "Mislabled cluster? 7945 4 -119.0 330.0\n",
        "Mislabled cluster? 7945 5 -148.0 169.0\n",
        "Mislabled cluster? 8190 1 -64.0 359.0"
       ]
      },
      {
       "output_type": "stream",
       "stream": "stdout",
       "text": [
        "\n",
        "Mislabled cluster? 8199 11 489.0 35.0"
       ]
      },
      {
       "output_type": "stream",
       "stream": "stdout",
       "text": [
        "\n",
        "Mislabled cluster? 8250 1 -91.6100158691 -73.8300018311"
       ]
      },
      {
       "output_type": "stream",
       "stream": "stdout",
       "text": [
        "\n",
        "Mislabled cluster? 8316 6 -61.0 118.0"
       ]
      },
      {
       "output_type": "stream",
       "stream": "stdout",
       "text": [
        "\n",
        "Mislabled cluster? 8391 1 591.142857143 106.428571429"
       ]
      },
      {
       "output_type": "stream",
       "stream": "stdout",
       "text": [
        "\n",
        "Mislabled cluster? 8422 2 -86.0 411.0"
       ]
      },
      {
       "output_type": "stream",
       "stream": "stdout",
       "text": [
        "\n",
        "Mislabled cluster? 8493 0 506.0 311.0"
       ]
      },
      {
       "output_type": "stream",
       "stream": "stdout",
       "text": [
        "\n",
        "Mislabled cluster? 8506 7 509.119995117 151.240005493"
       ]
      },
      {
       "output_type": "stream",
       "stream": "stdout",
       "text": [
        "\n",
        "Mislabled cluster? 8971 2 578.179441181 577.87446059"
       ]
      },
      {
       "output_type": "stream",
       "stream": "stdout",
       "text": [
        "\n",
        "Mislabled cluster? 9018 7 222.399993896 507.0"
       ]
      },
      {
       "output_type": "stream",
       "stream": "stdout",
       "text": [
        "\n",
        "Mislabled cluster? 9040 3 554.0 29.0"
       ]
      },
      {
       "output_type": "stream",
       "stream": "stdout",
       "text": [
        "\n",
        "Mislabled cluster? 9079 3 533.0 62.0"
       ]
      },
      {
       "output_type": "stream",
       "stream": "stdout",
       "text": [
        "\n",
        "Mislabled cluster? 9413 1 -157.3 321.6"
       ]
      },
      {
       "output_type": "stream",
       "stream": "stdout",
       "text": [
        "\n",
        "Mislabled cluster? 9413 5 -255.0 137.0\n",
        "Mislabled cluster? 9413 6 -209.0 185.0\n",
        "Mislabled cluster? 9413 7 -292.0 341.0\n",
        "Mislabled cluster? 9429 6 590.866211366 232.969897704"
       ]
      },
      {
       "output_type": "stream",
       "stream": "stdout",
       "text": [
        "\n",
        "Mislabled cluster? 9447 1 8.0 -111.0"
       ]
      },
      {
       "output_type": "stream",
       "stream": "stdout",
       "text": [
        "\n",
        "Mislabled cluster? 9481 1 632.0 261.0"
       ]
      },
      {
       "output_type": "stream",
       "stream": "stdout",
       "text": [
        "\n",
        "Mislabled cluster? 9481 2 402.0 524.0\n",
        "Mislabled cluster? 9490 1 344.5625 497.53125"
       ]
      },
      {
       "output_type": "stream",
       "stream": "stdout",
       "text": [
        "\n",
        "Mislabled cluster? 9615 2 19.0 -60.0"
       ]
      },
      {
       "output_type": "stream",
       "stream": "stdout",
       "text": [
        "\n",
        "Mislabled cluster? 9615 3 56.0 -116.0\n",
        "Mislabled cluster? 9655 3 598.918891826 468.435563153"
       ]
      },
      {
       "output_type": "stream",
       "stream": "stdout",
       "text": [
        "\n",
        "Mislabled cluster? 9852 1 -77.0 318.0"
       ]
      },
      {
       "output_type": "stream",
       "stream": "stdout",
       "text": [
        "\n",
        "Mislabled cluster? 9910 7 448.125 -73.953125"
       ]
      },
      {
       "output_type": "stream",
       "stream": "stdout",
       "text": [
        "\n",
        "Mislabled cluster? 9957 2 266.5 523.5"
       ]
      },
      {
       "output_type": "stream",
       "stream": "stdout",
       "text": [
        "\n",
        "Mislabled cluster? 9957 3 -66.0 296.5\n",
        "Mislabled cluster? 9957 7 -74.0 237.0\n",
        "Mislabled cluster? 10019 2 -93.0 -27.0"
       ]
      },
      {
       "output_type": "stream",
       "stream": "stdout",
       "text": [
        "\n",
        "Mislabled cluster? 10109 2 672.728866577 298.557743073"
       ]
      },
      {
       "output_type": "stream",
       "stream": "stdout",
       "text": [
        "\n",
        "Mislabled cluster? 10335 3 601.0 38.0"
       ]
      },
      {
       "output_type": "stream",
       "stream": "stdout",
       "text": [
        "\n",
        "Mislabled cluster? 10370 4 -10.0 -71.0"
       ]
      },
      {
       "output_type": "stream",
       "stream": "stdout",
       "text": [
        "\n",
        "Mislabled cluster? 10469 3 331.40625 552.8125"
       ]
      },
      {
       "output_type": "stream",
       "stream": "stdout",
       "text": [
        "\n",
        "Mislabled cluster? 10710 5 500.0 474.0"
       ]
      },
      {
       "output_type": "stream",
       "stream": "stdout",
       "text": [
        "\n",
        "Mislabled cluster? 10710 6 -97.0 364.0\n",
        "Mislabled cluster? 10710 8 -183.0 440.0\n",
        "Mislabled cluster? 10710 9 108.0 502.0\n",
        "Mislabled cluster? 10710 10 -126.0 124.0\n",
        "Mislabled cluster? 10710 11 -44.0 524.0\n",
        "Mislabled cluster? 10710 12 -29.0 -73.0\n",
        "Mislabled cluster? 10710 13 -61.0 192.0\n",
        "Mislabled cluster? 10710 14 318.0 -66.0\n",
        "Mislabled cluster? 10710 15 -59.1875 278.609375\n",
        "Mislabled cluster? 10710 17 534.08001709 378.559997559\n",
        "Mislabled cluster? 10710 18 528.0 286.0\n",
        "Mislabled cluster? 10710 20 509.765625 14.921875\n",
        "Mislabled cluster? 10770 2 207.0 523.0"
       ]
      },
      {
       "output_type": "stream",
       "stream": "stdout",
       "text": [
        "\n",
        "Mislabled cluster? 10868 3 249.0 520.0"
       ]
      },
      {
       "output_type": "stream",
       "stream": "stdout",
       "text": [
        "\n",
        "Mislabled cluster? 11005 1 594.214285714 97.0"
       ]
      },
      {
       "output_type": "stream",
       "stream": "stdout",
       "text": [
        "\n",
        "Mislabled cluster? 11005 4 535.0 68.0\n",
        "Mislabled cluster? 11192 2 48.0 -60.0"
       ]
      },
      {
       "output_type": "stream",
       "stream": "stdout",
       "text": [
        "\n",
        "Mislabled cluster? 11422 3 526.0 99.0"
       ]
      },
      {
       "output_type": "stream",
       "stream": "stdout",
       "text": [
        "\n",
        "Mislabled cluster? 11445 1 288.0 -49.0"
       ]
      },
      {
       "output_type": "stream",
       "stream": "stdout",
       "text": [
        "\n",
        "Mislabled cluster? 11445 2 412.0 492.0\n",
        "Mislabled cluster? 11469 1 -81.1149902344 56.8349914551"
       ]
      },
      {
       "output_type": "stream",
       "stream": "stdout",
       "text": [
        "\n",
        "Mislabled cluster? 11469 7 -101.719970703 144.789978027\n",
        "Mislabled cluster? 11482 3 -62.0 375.0"
       ]
      },
      {
       "output_type": "stream",
       "stream": "stdout",
       "text": [
        "\n",
        "Mislabled cluster? 11482 4 494.0 93.0\n",
        "Mislabled cluster? 11482 5 553.0 78.0\n",
        "Mislabled cluster? 11482 6 551.0 141.0\n",
        "Mislabled cluster? 11508 8 631.0 31.0"
       ]
      },
      {
       "output_type": "stream",
       "stream": "stdout",
       "text": [
        "\n",
        "Mislabled cluster? 11646 3 253.40625 505.8125"
       ]
      },
      {
       "output_type": "stream",
       "stream": "stdout",
       "text": [
        "\n",
        "Mislabled cluster? 11684 2 -132.0 206.0"
       ]
      },
      {
       "output_type": "stream",
       "stream": "stdout",
       "text": [
        "\n",
        "Mislabled cluster? 11754 5 113.0 525.0"
       ]
      },
      {
       "output_type": "stream",
       "stream": "stdout",
       "text": [
        "\n",
        "Mislabled cluster? 11826 4 373.40625 507.8125"
       ]
      },
      {
       "output_type": "stream",
       "stream": "stdout",
       "text": [
        "\n",
        "Mislabled cluster? 12117 3 533.533325195 186.133331299"
       ]
      },
      {
       "output_type": "stream",
       "stream": "stdout",
       "text": [
        "\n",
        "Mislabled cluster? 12216 5 498.125 187.046875"
       ]
      },
      {
       "output_type": "stream",
       "stream": "stdout",
       "text": [
        "\n"
       ]
      }
     ],
     "prompt_number": 18
    },
    {
     "cell_type": "markdown",
     "metadata": {},
     "source": [
      "## Create Cutouts From Catalog\n",
      "\n",
      "add an 'in_alpha' parameter to cluster catalog"
     ]
    },
    {
     "cell_type": "code",
     "collapsed": false,
     "input": [
      "print (clusteri, len(cluster_catalog))"
     ],
     "language": "python",
     "metadata": {},
     "outputs": [
      {
       "output_type": "stream",
       "stream": "stdout",
       "text": [
        "(16314, 35083)\n"
       ]
      }
     ],
     "prompt_number": 26
    },
    {
     "cell_type": "code",
     "collapsed": false,
     "input": [
      "print(outname_field)"
     ],
     "language": "python",
     "metadata": {},
     "outputs": [
      {
       "output_type": "stream",
       "stream": "stdout",
       "text": [
        "/Volumes/Seagate/cs231n/images/fields/ASW000526z.png\n"
       ]
      }
     ],
     "prompt_number": 28
    },
    {
     "cell_type": "code",
     "collapsed": false,
     "input": [
      "#cluster_catalog = pd.read_csv(cluster_catalog_path)\n",
      "#alphas = []\n",
      "for clusteri in range(16314 , len(cluster_catalog)):\n",
      "\n",
      "    x = cluster_catalog['x'][clusteri]\n",
      "    y = cluster_catalog['y'][clusteri]\n",
      "    \n",
      "    outname_field = images_path + cluster_catalog['fieldname'][clusteri]\n",
      "    im = get_online_png(cluster_catalog['location'][clusteri], outname_field)       \n",
      "        \n",
      "    min_x = np.int(np.floor(x - stamp_size / 2))\n",
      "    max_x = np.int(np.ceil(x + stamp_size / 2))\n",
      "    min_y = np.int(np.floor(y - stamp_size / 2))\n",
      "    max_y = np.int(np.ceil(y + stamp_size / 2))\n",
      "    pad_min_x = 0\n",
      "    pad_max_x = 0\n",
      "    pad_min_y = 0\n",
      "    pad_max_y = 0\n",
      "    pad_trip = False\n",
      "    if min_x < 0:\n",
      "        pad_min_x = -min_x\n",
      "        min_x = 0\n",
      "        pad_trip = True\n",
      "    if max_x >= im.shape[1]:\n",
      "        pad_max_x = max_x - im.shape[1]\n",
      "        max_x = im.shape[1]\n",
      "        pad_trip = True\n",
      "    if min_y < 0:\n",
      "        pad_min_y = -min_y\n",
      "        min_y = 0\n",
      "        pad_trip = True\n",
      "    if max_y >= im.shape[0]:\n",
      "        pad_max_y = max_y - im.shape[0]\n",
      "        max_y = im.shape[0]\n",
      "        pad_trip = True\n",
      "    \n",
      "    im_cut = np.pad(im[min_y: max_y, min_x: max_x],\n",
      "                    ((pad_min_y, pad_max_y), (pad_min_x, pad_max_x), (0, 0)),\n",
      "                    mode='constant')\n",
      "    im_cut = im_cut[:stamp_size, :stamp_size, :3]\n",
      "    \n",
      "    # now check if the center is in a high alpha region (if alpha is included, as it is with training)\n",
      "    alpha = 0\n",
      "    if im.shape[2] == 4:\n",
      "        im_mask = im[:,:,3].copy()\n",
      "                \n",
      "        im_mask -= im_mask.mean()\n",
      "        im_mask /= im_mask.std()\n",
      "        im_mask[im_mask < 5] = 0\n",
      "        im_mask[im_mask >= 5] = 1\n",
      "        \n",
      "        if ((y >= 0) * (y < 440) *\n",
      "            (x >= 0) * (x < 440)):\n",
      "            if im_mask[y, x] == 1:\n",
      "                alpha = 1\n",
      "    alphas.append(alpha)\n",
      "    \n",
      "    outname_cluster = cutouts_path + cluster_catalog['cutoutname'][clusteri]\n",
      "    \n",
      "    imsave(outname_cluster, im_cut)\n",
      "    \n",
      "cluster_catalog['alpha'] = alphas\n",
      "# save catalog\n",
      "cluster_catalog.to_csv(cluster_catalog_path)"
     ],
     "language": "python",
     "metadata": {},
     "outputs": []
    },
    {
     "cell_type": "markdown",
     "metadata": {},
     "source": [
      "Since this took so long and I'm at 17 gb with something like 150k more clusters to go, let's stop and assess our distribution."
     ]
    },
    {
     "cell_type": "code",
     "collapsed": false,
     "input": [
      "# now let's print some essential stats:\n",
      "cc = cluster_catalog\n",
      "\n",
      "print(cc.columns)\n",
      "\n",
      "# get number of objects in stage 1 vs stage 2\n",
      "print(cc.groupby(['stage']).apply(len))\n",
      "\n",
      "print(cc.groupby(['kind']).apply(len))\n",
      "\n",
      "print(cc.groupby(['stage', 'kind']).apply(len))\n",
      "\n",
      "# get number of flavors\n",
      "print(cc.groupby(['flavor']).apply(len))\n",
      "\n",
      "\n",
      "# combine together\n",
      "print(cc.groupby(['stage', 'flavor']).apply(len))\n",
      "print(cc.groupby(['stage', 'flavor', 'alpha']).apply(len))\n",
      "print(cc.groupby(['stage', 'flavor', 'status']).apply(len))\n",
      "\n",
      "# also show median probability\n",
      "print(cc.groupby(['stage', 'flavor'])['mean_probability'].apply(np.mean))\n",
      "print(cc.groupby(['stage', 'flavor', 'status'])['mean_probability'].apply(np.mean))\n",
      "\n"
     ],
     "language": "python",
     "metadata": {},
     "outputs": []
    },
    {
     "cell_type": "code",
     "collapsed": false,
     "input": [
      "# repeat for the regular catalog (by field) instead of clusters\n",
      "cc_all = catalog\n",
      "cc = cc_all\n",
      "\n",
      "# now let's print some essential stats:\n",
      "\n",
      "\n",
      "print(cc.columns)\n",
      "\n",
      "# get number of objects in stage 1 vs stage 2\n",
      "print(cc.groupby(['stage']).apply(len))\n",
      "\n",
      "print(cc.groupby(['kind']).apply(len))\n",
      "\n",
      "print(cc.groupby(['stage', 'kind']).apply(len))\n",
      "\n",
      "# get number of flavors\n",
      "print(cc.groupby(['flavor']).apply(len))\n",
      "\n",
      "\n",
      "# combine together\n",
      "print(cc.groupby(['stage', 'flavor']).apply(len))\n",
      "print(cc.groupby(['stage', 'flavor', 'status']).apply(len))\n",
      "\n",
      "# also show median probability\n",
      "print(cc.groupby(['stage', 'flavor'])['mean_probability'].apply(np.mean))\n",
      "print(cc.groupby(['stage', 'flavor', 'status'])['mean_probability'].apply(np.mean))\n",
      "\n"
     ],
     "language": "python",
     "metadata": {},
     "outputs": [
      {
       "output_type": "stream",
       "stream": "stdout",
       "text": [
        "Index([u'Unnamed: 0', u'ID', u'ZooID', u'location', u'mean_probability', u'category', u'kind', u'flavor', u'state', u'status', u'truth', u'stage', u'At_X', u'At_Y', u'PD', u'PL'], dtype='object')\n",
        "stage\n",
        "1        8681\n",
        "2        3766\n",
        "dtype: int64\n",
        "kind\n",
        "dud     3172\n",
        "sim     5862\n",
        "test    3413\n",
        "dtype: int64\n",
        "stage  kind\n",
        "1      dud     2971\n",
        "       sim     5710\n",
        "2      dud      201\n",
        "       sim      152\n",
        "       test    3413\n",
        "dtype: int64\n",
        "flavor\n",
        "dud                3172\n",
        "lensed galaxy      2023\n",
        "lensed quasar      1930\n",
        "lensing cluster    1909\n",
        "test               3413\n",
        "dtype: int64\n",
        "stage  flavor         \n",
        "1      dud                2971\n",
        "       lensed galaxy      1879\n",
        "       lensed quasar      1930\n",
        "       lensing cluster    1901\n",
        "2      dud                 201\n",
        "       lensed galaxy       144\n",
        "       lensing cluster       8\n",
        "       test               3413\n",
        "dtype: int64\n",
        "stage  flavor           status   \n",
        "1      dud              detected        4\n",
        "                        rejected     2887\n",
        "                        undecided      80\n",
        "       lensed galaxy    detected     1735\n",
        "                        rejected       65\n",
        "                        undecided      79\n",
        "       lensed quasar    detected     1871\n",
        "                        rejected       20\n",
        "                        undecided      39\n",
        "       lensing cluster  detected     1769\n",
        "                        rejected       77\n",
        "                        undecided      55\n",
        "2      dud              rejected      127\n",
        "                        undecided      74\n",
        "       lensed galaxy    detected       94\n",
        "                        rejected        1\n",
        "                        undecided      49\n",
        "       lensing cluster  detected        2\n",
        "                        undecided       6\n",
        "       test             detected       59\n",
        "                        rejected      957\n",
        "                        undecided    2397\n",
        "dtype: int64\n",
        "stage  flavor         \n",
        "1      dud                0.001632\n",
        "       lensed galaxy      0.929710\n",
        "       lensed quasar      0.972904\n",
        "       lensing cluster    0.933985\n",
        "2      dud                0.018590\n",
        "       lensed galaxy      0.842285\n",
        "       lensing cluster    0.477581\n",
        "       test               0.161975\n",
        "Name: mean_probability, dtype: float64"
       ]
      },
      {
       "output_type": "stream",
       "stream": "stdout",
       "text": [
        "\n",
        "stage  flavor           status   \n",
        "1      dud              detected     9.993977e-01\n",
        "                        rejected     2.182251e-08\n",
        "                        undecided    1.062773e-02\n",
        "       lensed galaxy    detected     9.999307e-01\n",
        "                        rejected     2.984655e-08\n",
        "                        undecided    1.524675e-01\n",
        "       lensed quasar    detected     9.999232e-01\n",
        "                        rejected     2.730196e-08\n",
        "                        undecided    1.756091e-01\n",
        "       lensing cluster  detected     9.999054e-01\n",
        "                        rejected     2.619193e-08\n",
        "                        undecided    1.213332e-01\n",
        "2      dud              rejected     1.277257e-09\n",
        "                        undecided    5.049312e-02\n",
        "       lensed galaxy    detected     9.983128e-01\n",
        "                        rejected     5.608823e-18\n",
        "                        undecided    5.601545e-01\n",
        "       lensing cluster  detected     9.810140e-01\n",
        "                        undecided    3.097695e-01\n",
        "       test             detected     9.953070e-01\n",
        "                        rejected     3.002540e-09\n",
        "                        undecided    2.061315e-01\n",
        "Name: mean_probability, dtype: float64\n"
       ]
      }
     ],
     "prompt_number": 21
    },
    {
     "cell_type": "markdown",
     "metadata": {},
     "source": [
      "## So in sum:\n",
      "\n",
      "We have something like 6700 simulated lenses, 3700 known duds, 104408 'tests' (of which we can probably safely use 93000 as duds from the stage 1 rejected tests).\n",
      "\n",
      "Data augmentation for these are clearly needed!"
     ]
    },
    {
     "cell_type": "markdown",
     "metadata": {},
     "source": [
      "## Compare with knownlenses"
     ]
    },
    {
     "cell_type": "code",
     "collapsed": false,
     "input": [
      "%connect_info"
     ],
     "language": "python",
     "metadata": {},
     "outputs": []
    },
    {
     "cell_type": "code",
     "collapsed": false,
     "input": [
      "# what entries in our catalog are in the knownlens ones?\n",
      "kl = pd.read_csv(knownlens_path)\n",
      "cc = pd.read_csv(cluster_catalog_path)\n",
      "\n",
      "cc.set_index('ZooID')\n",
      "for kli in range(len(kl)):\n",
      "    kx = kl['x'][kli]\n",
      "    ky = kl['y'][kli]\n",
      "    cci = cc[kl['ZooID'][kl]]\n",
      "    break"
     ],
     "language": "python",
     "metadata": {},
     "outputs": []
    },
    {
     "cell_type": "markdown",
     "metadata": {},
     "source": [
      "## Augment the data: Take the images, apply a reasonable affine transformation\n",
      "\n",
      "One guy actually did this in the convnet for the galaxy zoo morphologies -- we don't have to necessarily store 32x of these data if we don't want (also helps combat overfitting)."
     ]
    },
    {
     "cell_type": "code",
     "collapsed": false,
     "input": [],
     "language": "python",
     "metadata": {},
     "outputs": []
    }
   ],
   "metadata": {}
  }
 ]
}