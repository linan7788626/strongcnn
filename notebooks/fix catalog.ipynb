{
 "cells": [
  {
   "cell_type": "markdown",
   "metadata": {},
   "source": [
    "This is in case I accidentally put in probabilities that were not the official ones (e.g. from an iterated catalog.)"
   ]
  },
  {
   "cell_type": "markdown",
   "metadata": {},
   "source": [
    "## Load up Catalogs"
   ]
  },
  {
   "cell_type": "code",
   "execution_count": 1,
   "metadata": {
    "collapsed": false
   },
   "outputs": [
    {
     "name": "stdout",
     "output_type": "stream",
     "text": [
      "/nfs/slac/g/ki/ki18/cpd/swap_catalog_diagnostics\n"
     ]
    }
   ],
   "source": [
    "cd /nfs/slac/g/ki/ki18/cpd/swap_catalog_diagnostics/"
   ]
  },
  {
   "cell_type": "code",
   "execution_count": 2,
   "metadata": {
    "collapsed": true
   },
   "outputs": [],
   "source": [
    "%matplotlib inline\n",
    "import pandas as pd\n",
    "\n",
    "annotated_catalog = pd.read_csv('./annotated_catalog.csv', index_col=0)\n",
    "cluster_catalog = pd.read_csv('./catalog.csv', index_col=0)"
   ]
  },
  {
   "cell_type": "markdown",
   "metadata": {},
   "source": [
    "### Stage 1"
   ]
  },
  {
   "cell_type": "code",
   "execution_count": 3,
   "metadata": {
    "collapsed": false
   },
   "outputs": [
    {
     "name": "stdout",
     "output_type": "stream",
     "text": [
      "/nfs/slac/g/ki/ki18/cpd/code/SpaceWarps/analysis/projects/CFHTLS/stage1/results\n"
     ]
    }
   ],
   "source": [
    "cd /nfs/slac/g/ki/ki18/cpd/code/SpaceWarps/analysis/projects/CFHTLS/stage1/results"
   ]
  },
  {
   "cell_type": "code",
   "execution_count": 56,
   "metadata": {
    "collapsed": false
   },
   "outputs": [],
   "source": [
    "stage = 1\n",
    "files = [#'CFHTLS_2013-12-08_10:20:56_candidate_catalog.txt',\n",
    "         'CFHTLS_2013-12-08_10:20:56_dud_catalog.txt',\n",
    "         'CFHTLS_2013-12-08_10:20:56_sim_catalog.txt']\n",
    "names = ['ZooID', 'mean_probability', 'Nclass', 'image']\n",
    "\n",
    "for file_i in files:\n",
    "    print(file_i)\n",
    "    cat = pd.read_csv(file_i, delim_whitespace=True, usecols=[0,1,2,3])\n",
    "    cat.columns = names\n",
    "\n",
    "    for index, series in cat.iterrows():\n",
    "        zooid = series['ZooID']\n",
    "        P = series['mean_probability']\n",
    "\n",
    "        annotated_catalog.loc[(annotated_catalog['ZooID'] == zooid) & \n",
    "                              (annotated_catalog['stage'] == stage), 'mean_probability'] = P\n",
    "        cluster_catalog.loc[(cluster_catalog['ZooID'] == zooid) & \n",
    "                            (cluster_catalog['stage'] == stage), 'mean_probability'] = P"
   ]
  },
  {
   "cell_type": "markdown",
   "metadata": {},
   "source": [
    "### Stage 2"
   ]
  },
  {
   "cell_type": "code",
   "execution_count": 59,
   "metadata": {
    "collapsed": false
   },
   "outputs": [
    {
     "name": "stdout",
     "output_type": "stream",
     "text": [
      "/nfs/slac/g/ki/ki18/cpd/code/SpaceWarps/analysis/projects/CFHTLS/stage2/results/offline/CFHTLS_2013-12-10_16:47:03\n"
     ]
    }
   ],
   "source": [
    "cd /nfs/slac/g/ki/ki18/cpd/code/SpaceWarps/analysis/projects/CFHTLS/stage2/results/offline/CFHTLS_2013-12-10_16:47:03"
   ]
  },
  {
   "cell_type": "code",
   "execution_count": 60,
   "metadata": {
    "collapsed": false
   },
   "outputs": [
    {
     "name": "stdout",
     "output_type": "stream",
     "text": [
      "CFHTLS_2013-12-10_16:47:03_candidate_catalog.txt\n",
      "CFHTLS_2013-12-10_16:47:03_dud_catalog.txt\n",
      "CFHTLS_2013-12-10_16:47:03_sim_catalog.txt\n"
     ]
    }
   ],
   "source": [
    "files = ['CFHTLS_2013-12-10_16:47:03_candidate_catalog.txt',\n",
    "         'CFHTLS_2013-12-10_16:47:03_dud_catalog.txt',\n",
    "         'CFHTLS_2013-12-10_16:47:03_sim_catalog.txt']\n",
    "names = ['ZooID', 'mean_probability', 'Nclass', 'image']\n",
    "\n",
    "for file_i in files:\n",
    "    print(file_i)\n",
    "    cat = pd.read_csv(file_i, delim_whitespace=True, usecols=[0,1,2,3])\n",
    "    cat.columns = names\n",
    "\n",
    "    for index, series in cat.iterrows():\n",
    "        zooid = series['ZooID']\n",
    "        P = series['mean_probability']\n",
    "\n",
    "        annotated_catalog.loc[(annotated_catalog['ZooID'] == zooid) & \n",
    "                              (annotated_catalog['stage'] == stage), 'mean_probability'] = P\n",
    "        cluster_catalog.loc[(cluster_catalog['ZooID'] == zooid) & \n",
    "                            (cluster_catalog['stage'] == stage), 'mean_probability'] = P"
   ]
  },
  {
   "cell_type": "markdown",
   "metadata": {},
   "source": [
    "save outputs"
   ]
  },
  {
   "cell_type": "code",
   "execution_count": 63,
   "metadata": {
    "collapsed": true
   },
   "outputs": [],
   "source": [
    "base_dir = '/nfs/slac/g/ki/ki18/cpd/swap_catalog'\n",
    "cluster_catalog.to_csv(base_dir + '/catalog.csv')\n",
    "annotated_catalog.to_csv(base_dir + '_diagnostics/catalog.csv')\n",
    "cluster_catalog.to_csv(base_dir + '_diagnostics/catalog.csv')\n",
    "cluster_catalog.to_csv('/nfs/slac/g/ki/ki18/cpd/code/strongcnn/catalog/catalog.csv')"
   ]
  },
  {
   "cell_type": "markdown",
   "metadata": {},
   "source": [
    "rerun tars"
   ]
  },
  {
   "cell_type": "code",
   "execution_count": null,
   "metadata": {
    "collapsed": false
   },
   "outputs": [],
   "source": [
    "%%bash\n",
    "cd /nfs/slac/g/ki/ki18/cpd\n",
    "rm swap_catalog.tar\n",
    "rm swap_catalog_diagnostics.tar\n",
    "tar cf swap_catalog.tar swap_catalog\n",
    "tar cf swap_catalog_diagnostics.tar swap_catalog_diagnostics"
   ]
  },
  {
   "cell_type": "code",
   "execution_count": null,
   "metadata": {
    "collapsed": true
   },
   "outputs": [],
   "source": []
  }
 ],
 "metadata": {
  "kernelspec": {
   "display_name": "Python 2",
   "language": "python",
   "name": "python2"
  },
  "language_info": {
   "codemirror_mode": {
    "name": "ipython",
    "version": 2
   },
   "file_extension": ".py",
   "mimetype": "text/x-python",
   "name": "python",
   "nbconvert_exporter": "python",
   "pygments_lexer": "ipython2",
   "version": "2.7.6"
  }
 },
 "nbformat": 4,
 "nbformat_minor": 0
}
